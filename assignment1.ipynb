{
  "nbformat": 4,
  "nbformat_minor": 0,
  "metadata": {
    "colab": {
      "provenance": []
    },
    "kernelspec": {
      "name": "python3",
      "display_name": "Python 3"
    },
    "language_info": {
      "name": "python"
    }
  },
  "cells": [
    {
      "cell_type": "code",
      "execution_count": 33,
      "metadata": {
        "id": "01q1gskpyoDT"
      },
      "outputs": [],
      "source": [
        "import numpy as np\n",
        "import pandas as pd\n",
        "import matplotlib.pyplot as plt\n"
      ]
    },
    {
      "cell_type": "code",
      "source": [
        "data=pd.read_csv(\"/home/data/data.csv\")\n",
        "print(data)"
      ],
      "metadata": {
        "colab": {
          "base_uri": "https://localhost:8080/"
        },
        "id": "IFm6gOt2y1z4",
        "outputId": "61fd2d2c-3c6a-4f47-df2b-941a59153e8c"
      },
      "execution_count": 10,
      "outputs": [
        {
          "output_type": "stream",
          "name": "stdout",
          "text": [
            "     Duration  Pulse  Maxpulse  Calories\n",
            "0          60    110       130     409.1\n",
            "1          60    117       145     479.0\n",
            "2          60    103       135     340.0\n",
            "3          45    109       175     282.4\n",
            "4          45    117       148     406.0\n",
            "..        ...    ...       ...       ...\n",
            "164        60    105       140     290.8\n",
            "165        60    110       145     300.0\n",
            "166        60    115       145     310.2\n",
            "167        75    120       150     320.4\n",
            "168        75    125       150     330.4\n",
            "\n",
            "[169 rows x 4 columns]\n"
          ]
        }
      ]
    },
    {
      "cell_type": "code",
      "source": [
        "stats=data.describe()\n",
        "print(stats)"
      ],
      "metadata": {
        "colab": {
          "base_uri": "https://localhost:8080/"
        },
        "id": "R07uo2q90FYi",
        "outputId": "c00bb5db-b33d-4208-d078-ee91acad57ec"
      },
      "execution_count": 14,
      "outputs": [
        {
          "output_type": "stream",
          "name": "stdout",
          "text": [
            "         Duration       Pulse    Maxpulse     Calories\n",
            "count  169.000000  169.000000  169.000000   164.000000\n",
            "mean    63.846154  107.461538  134.047337   375.790244\n",
            "std     42.299949   14.510259   16.450434   266.379919\n",
            "min     15.000000   80.000000  100.000000    50.300000\n",
            "25%     45.000000  100.000000  124.000000   250.925000\n",
            "50%     60.000000  105.000000  131.000000   318.600000\n",
            "75%     60.000000  111.000000  141.000000   387.600000\n",
            "max    300.000000  159.000000  184.000000  1860.400000\n"
          ]
        }
      ]
    },
    {
      "cell_type": "code",
      "source": [
        "null_rows = data[data.isnull().any(axis=1)]\n",
        "\n",
        "# Print the rows with null values\n",
        "print(\"Rows with null values:\")\n",
        "print(null_rows)\n",
        "\n",
        "# Replace null values with the mean for each row\n",
        "def replace_null_with_mean(row):\n",
        "    row_mean = row.mean()\n",
        "    return row.fillna(row_mean)\n",
        "\n",
        "df_filled = data.apply(replace_null_with_mean, axis=1)\n",
        "\n",
        "# Display the DataFrame after replacing null values with mean for each row\n",
        "print(\"DataFrame after replacing null values with mean for each row:\")\n",
        "print(df_filled)"
      ],
      "metadata": {
        "colab": {
          "base_uri": "https://localhost:8080/"
        },
        "id": "1Ox9dDPc4Kxt",
        "outputId": "fbbe0caa-0413-4f27-b188-7cf19f6ca0fe"
      },
      "execution_count": 16,
      "outputs": [
        {
          "output_type": "stream",
          "name": "stdout",
          "text": [
            "Rows with null values:\n",
            "     Duration  Pulse  Maxpulse  Calories\n",
            "17         45     90       112       NaN\n",
            "27         60    103       132       NaN\n",
            "91         45    107       137       NaN\n",
            "118        60    105       125       NaN\n",
            "141        60     97       127       NaN\n",
            "DataFrame after replacing null values with mean for each row:\n",
            "     Duration  Pulse  Maxpulse  Calories\n",
            "0        60.0  110.0     130.0     409.1\n",
            "1        60.0  117.0     145.0     479.0\n",
            "2        60.0  103.0     135.0     340.0\n",
            "3        45.0  109.0     175.0     282.4\n",
            "4        45.0  117.0     148.0     406.0\n",
            "..        ...    ...       ...       ...\n",
            "164      60.0  105.0     140.0     290.8\n",
            "165      60.0  110.0     145.0     300.0\n",
            "166      60.0  115.0     145.0     310.2\n",
            "167      75.0  120.0     150.0     320.4\n",
            "168      75.0  125.0     150.0     330.4\n",
            "\n",
            "[169 rows x 4 columns]\n"
          ]
        }
      ]
    },
    {
      "cell_type": "code",
      "source": [
        "\n",
        "# Select at least two columns (replace 'column1' and 'column2' with your actual column names)\n",
        "selected_columns = ['Duration', 'Pulse']\n",
        "\n",
        "# Aggregate the data using min, max, count, and mean for the selected columns\n",
        "aggregated_data = data[selected_columns].agg({\n",
        "    'Duration': ['min', 'max', 'count', 'mean'],\n",
        "    'Pulse': ['min', 'max', 'count', 'mean']\n",
        "})\n",
        "\n",
        "# Display the aggregated data\n",
        "print(aggregated_data)"
      ],
      "metadata": {
        "colab": {
          "base_uri": "https://localhost:8080/"
        },
        "id": "geBtP3w64vX8",
        "outputId": "36ee681e-16ba-41cf-fa1e-8b0be8941167"
      },
      "execution_count": 18,
      "outputs": [
        {
          "output_type": "stream",
          "name": "stdout",
          "text": [
            "         Duration       Pulse\n",
            "min     15.000000   80.000000\n",
            "max    300.000000  159.000000\n",
            "count  169.000000  169.000000\n",
            "mean    63.846154  107.461538\n"
          ]
        }
      ]
    },
    {
      "cell_type": "code",
      "source": [
        "filtered_df = data[(data['Calories'] >= 500) & (data['Calories'] <= 1000)]\n",
        "\n",
        "# Display the filtered DataFrame\n",
        "print(\"DataFrame with calories between 500 and 1000:\")\n",
        "print(filtered_df)"
      ],
      "metadata": {
        "colab": {
          "base_uri": "https://localhost:8080/"
        },
        "id": "0RkvOGS0493F",
        "outputId": "56bc7505-5ef0-4a03-cca3-5af15a93bba7"
      },
      "execution_count": 20,
      "outputs": [
        {
          "output_type": "stream",
          "name": "stdout",
          "text": [
            "DataFrame with calories between 500 and 1000:\n",
            "     Duration  Pulse  Maxpulse  Calories\n",
            "51         80    123       146     643.1\n",
            "62        160    109       135     853.0\n",
            "65        180     90       130     800.4\n",
            "66        150    105       135     873.4\n",
            "67        150    107       130     816.0\n",
            "72         90    100       127     700.0\n",
            "73        150     97       127     953.2\n",
            "75         90     98       125     563.2\n",
            "78        120    100       130     500.4\n",
            "83        120    100       130     500.0\n",
            "90        180    101       127     600.1\n",
            "99         90     93       124     604.1\n",
            "101        90     90       110     500.0\n",
            "102        90     90       100     500.0\n",
            "103        90     90       100     500.4\n",
            "106       180     90       120     800.3\n",
            "108        90     90       120     500.3\n"
          ]
        }
      ]
    },
    {
      "cell_type": "code",
      "source": [
        "filtered_data = data[(data['Calories'] > 500) & (data['Pulse'] < 100)]\n",
        "\n",
        "# Display the filtered DataFrame\n",
        "print(\"DataFrame with calories > 500 and pulse < 100:\")\n",
        "print(filtered_data)"
      ],
      "metadata": {
        "colab": {
          "base_uri": "https://localhost:8080/"
        },
        "id": "fclqpP7W5iHL",
        "outputId": "0f1f9fa8-ad8b-4865-c6cf-948346580b1a"
      },
      "execution_count": 23,
      "outputs": [
        {
          "output_type": "stream",
          "name": "stdout",
          "text": [
            "DataFrame with calories > 500 and pulse < 100:\n",
            "     Duration  Pulse  Maxpulse  Calories\n",
            "65        180     90       130     800.4\n",
            "70        150     97       129    1115.0\n",
            "73        150     97       127     953.2\n",
            "75         90     98       125     563.2\n",
            "99         90     93       124     604.1\n",
            "103        90     90       100     500.4\n",
            "106       180     90       120     800.3\n",
            "108        90     90       120     500.3\n"
          ]
        }
      ]
    },
    {
      "cell_type": "code",
      "source": [
        "df_modified = data.drop(columns=['Maxpulse'])\n",
        "\n",
        "# Display the modified DataFrame\n",
        "print(\"DataFrame 'df_modified' without 'Maxpulse' column:\")\n",
        "print(df_modified)"
      ],
      "metadata": {
        "colab": {
          "base_uri": "https://localhost:8080/"
        },
        "id": "68Ts6J-B54TV",
        "outputId": "e81f750e-761d-41dc-b673-c451f3fb509e"
      },
      "execution_count": 25,
      "outputs": [
        {
          "output_type": "stream",
          "name": "stdout",
          "text": [
            "DataFrame 'df_modified' without 'Maxpulse' column:\n",
            "     Duration  Pulse  Calories\n",
            "0          60    110     409.1\n",
            "1          60    117     479.0\n",
            "2          60    103     340.0\n",
            "3          45    109     282.4\n",
            "4          45    117     406.0\n",
            "..        ...    ...       ...\n",
            "164        60    105     290.8\n",
            "165        60    110     300.0\n",
            "166        60    115     310.2\n",
            "167        75    120     320.4\n",
            "168        75    125     330.4\n",
            "\n",
            "[169 rows x 3 columns]\n"
          ]
        }
      ]
    },
    {
      "cell_type": "code",
      "source": [
        "filtered_df.drop(columns=['Maxpulse'], inplace=True)\n",
        "\n",
        "# Display the modified DataFrame\n",
        "print(\"DataFrame 'df' without 'Maxpulse' column:\")\n",
        "print(data)"
      ],
      "metadata": {
        "colab": {
          "base_uri": "https://localhost:8080/"
        },
        "id": "aHWBZHIW5-5y",
        "outputId": "db175ff3-3a13-4a1e-8093-e612d2ad8a41"
      },
      "execution_count": 28,
      "outputs": [
        {
          "output_type": "stream",
          "name": "stdout",
          "text": [
            "DataFrame 'df' without 'Maxpulse' column:\n",
            "     Duration  Pulse  Calories\n",
            "0          60    110     409.1\n",
            "1          60    117     479.0\n",
            "2          60    103     340.0\n",
            "3          45    109     282.4\n",
            "4          45    117     406.0\n",
            "..        ...    ...       ...\n",
            "164        60    105     290.8\n",
            "165        60    110     300.0\n",
            "166        60    115     310.2\n",
            "167        75    120     320.4\n",
            "168        75    125     330.4\n",
            "\n",
            "[169 rows x 3 columns]\n"
          ]
        },
        {
          "output_type": "stream",
          "name": "stderr",
          "text": [
            "<ipython-input-28-ef60b49a33dd>:1: SettingWithCopyWarning: \n",
            "A value is trying to be set on a copy of a slice from a DataFrame\n",
            "\n",
            "See the caveats in the documentation: https://pandas.pydata.org/pandas-docs/stable/user_guide/indexing.html#returning-a-view-versus-a-copy\n",
            "  filtered_df.drop(columns=['Maxpulse'], inplace=True)\n"
          ]
        }
      ]
    },
    {
      "cell_type": "code",
      "source": [
        "df_filled['Calories'] = df_filled['Calories'].astype(int)\n",
        "print(df_filled)"
      ],
      "metadata": {
        "colab": {
          "base_uri": "https://localhost:8080/"
        },
        "id": "eGtiS4636jwu",
        "outputId": "f05b244c-fdba-4b78-8679-38eb320cf06b"
      },
      "execution_count": 31,
      "outputs": [
        {
          "output_type": "stream",
          "name": "stdout",
          "text": [
            "     Duration  Pulse  Maxpulse  Calories\n",
            "0        60.0  110.0     130.0       409\n",
            "1        60.0  117.0     145.0       479\n",
            "2        60.0  103.0     135.0       340\n",
            "3        45.0  109.0     175.0       282\n",
            "4        45.0  117.0     148.0       406\n",
            "..        ...    ...       ...       ...\n",
            "164      60.0  105.0     140.0       290\n",
            "165      60.0  110.0     145.0       300\n",
            "166      60.0  115.0     145.0       310\n",
            "167      75.0  120.0     150.0       320\n",
            "168      75.0  125.0     150.0       330\n",
            "\n",
            "[169 rows x 4 columns]\n"
          ]
        }
      ]
    },
    {
      "cell_type": "code",
      "source": [
        "df_filled.plot.scatter(x='Duration', y='Calories', title='Scatter Plot: Duration vs Calories')\n",
        "plt.xlabel('Duration (minutes)')\n",
        "plt.ylabel('Calories Burned')\n",
        "plt.show()"
      ],
      "metadata": {
        "colab": {
          "base_uri": "https://localhost:8080/",
          "height": 472
        },
        "id": "tlF_Np2t7itI",
        "outputId": "a3a0f633-e1b5-4efa-f81c-3824d33eb5e7"
      },
      "execution_count": 34,
      "outputs": [
        {
          "output_type": "display_data",
          "data": {
            "text/plain": [
              "<Figure size 640x480 with 1 Axes>"
            ],
            "image/png": "[encoded data removed]"
          },
          "metadata": {}
        }
      ]
    }
  ]
}